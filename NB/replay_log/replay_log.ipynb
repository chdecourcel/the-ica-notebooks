{
 "cells": [
  {
   "cell_type": "markdown",
   "metadata": {},
   "source": [
    "# Rafal Load stress testing"
   ]
  },
  {
   "cell_type": "markdown",
   "metadata": {},
   "source": [
    "## Connect to Rafal"
   ]
  },
  {
   "cell_type": "code",
   "execution_count": null,
   "metadata": {},
   "outputs": [],
   "source": [
    "# load connection script\n",
    "%run ../../etc/rafal_load.py\n",
    "\n",
    "uiConnect"
   ]
  },
  {
   "cell_type": "markdown",
   "metadata": {},
   "source": [
    "## Parse log file and look for rafal requests"
   ]
  },
  {
   "cell_type": "code",
   "execution_count": null,
   "metadata": {},
   "outputs": [],
   "source": [
    "log_file= 'log.txt'"
   ]
  },
  {
   "cell_type": "code",
   "execution_count": null,
   "metadata": {},
   "outputs": [],
   "source": [
    "def tokenize(line):\n",
    "    return line.strip().split(' ')"
   ]
  },
  {
   "cell_type": "code",
   "execution_count": null,
   "metadata": {},
   "outputs": [],
   "source": [
    "verbose= True"
   ]
  },
  {
   "cell_type": "code",
   "execution_count": null,
   "metadata": {
    "scrolled": true
   },
   "outputs": [],
   "source": [
    "read_request= False\n",
    "requestsArgs= []\n",
    "\n",
    "with open(log_file, 'r') as fin:\n",
    "    for i, line in enumerate(fin.readlines()):\n",
    "        if read_request and (line[:3] == '202'):\n",
    "            # end of endPoint request detected\n",
    "            requestsArgs.append({'httpMethod': httpMethod,\n",
    "                                 'endPoint':endPoint,\n",
    "                                 'body': ''.join(body),\n",
    "                                })\n",
    "            if verbose:\n",
    "                print(i, httpMethod, endPoint, len(body))\n",
    "            read_request = False\n",
    "            \n",
    "        if read_request:\n",
    "            # read body line\n",
    "            body.append(line)\n",
    "            \n",
    "        if (line[:3] == '202') and (\"DEBUG - TRAFFIC.\" in line):\n",
    "            # new endPoint request detected\n",
    "            read_request= True\n",
    "            cmd= tokenize(line)\n",
    "            httpMethod= cmd[6]\n",
    "            endPoint= cmd[7]\n",
    "            if len(cmd) > 8 and cmd[8] == '{':\n",
    "                body= [cmd[8]]\n",
    "            else:\n",
    "                body= []"
   ]
  },
  {
   "cell_type": "markdown",
   "metadata": {},
   "source": [
    "## replay rafal request"
   ]
  },
  {
   "cell_type": "code",
   "execution_count": null,
   "metadata": {},
   "outputs": [],
   "source": [
    "import json"
   ]
  },
  {
   "cell_type": "code",
   "execution_count": null,
   "metadata": {
    "scrolled": false
   },
   "outputs": [],
   "source": [
    "for i, requestArgs in enumerate(requestsArgs):\n",
    "    if requestArgs['endPoint'] == '/ping':\n",
    "        print('/ping');continue\n",
    "    print('\\n', i, requestArgs['httpMethod'], requestArgs['endPoint'])\n",
    "    requestArgs['resp']= session.request(endPoint= requestArgs['endPoint'], \n",
    "                                         http= requestArgs['httpMethod'], \n",
    "                                         output= 'json',\n",
    "                                         jsonText= json.loads(requestArgs['body']) if requestArgs['body'] else None)"
   ]
  },
  {
   "cell_type": "code",
   "execution_count": null,
   "metadata": {},
   "outputs": [],
   "source": [
    "for requestArgs in requestsArgs:\n",
    "    if 'resp' in requestArgs:\n",
    "        print(requestArgs['httpMethod'], requestArgs['endPoint'], len(requestArgs['resp']) if requestArgs['resp'] else 0)"
   ]
  },
  {
   "cell_type": "code",
   "execution_count": null,
   "metadata": {},
   "outputs": [],
   "source": []
  }
 ],
 "metadata": {
  "kernelspec": {
   "display_name": "Python 3",
   "language": "python",
   "name": "python3"
  },
  "language_info": {
   "codemirror_mode": {
    "name": "ipython",
    "version": 3
   },
   "file_extension": ".py",
   "mimetype": "text/x-python",
   "name": "python",
   "nbconvert_exporter": "python",
   "pygments_lexer": "ipython3",
   "version": "3.7.6"
  }
 },
 "nbformat": 4,
 "nbformat_minor": 4
}
