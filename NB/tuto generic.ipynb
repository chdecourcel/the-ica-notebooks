{
 "cells": [
  {
   "cell_type": "code",
   "execution_count": null,
   "metadata": {},
   "outputs": [],
   "source": [
    "import sys\n",
    "import json\n",
    "import pandas as pd\n",
    "from uuid import uuid4\n",
    "\n",
    "import ipywidgets as widgets\n",
    "from IPython.display import display\n",
    "from IPython.core.display import Markdown\n",
    "\n",
    "import rafal\n",
    "\n",
    "# Config loading : modify in the config.json file\n",
    "config = json.load(open('config.json'))\n",
    "user= config['Rafal.user']\n",
    "url = config['Rafal.url']\n",
    "\n",
    "pwd_exists = bool(config.get('Rafal.password', None)) \n",
    "wPwd= widgets.Password(value= '',\n",
    "                      placeholder= 'from config' if pwd_exists else 'Enter password',\n",
    "                      disabled= pwd_exists\n",
    "                     )\n",
    "\n",
    "display(widgets.HBox([widgets.Label('Password for Rafal API :'), wPwd]))\n",
    "\n",
    "# proxy parameters\n",
    "proxies = (config['proxies'] if config['proxies']['http'] or config['proxies']['https'] \n",
    "           else None)"
   ]
  },
  {
   "cell_type": "code",
   "execution_count": null,
   "metadata": {},
   "outputs": [],
   "source": [
    "# get password\n",
    "pwd= config['Rafal.password'] if pwd_exists else wPwd.value\n",
    "if not pwd:\n",
    "    print('Please write your password first !')\n",
    "\n",
    "# open a new rafal session and connect\n",
    "session= rafal.Session(verbose= True)\n",
    "session.connect(url= url, login= user, pwd= pwd, proxies= proxies)\n",
    "\n",
    "# Python version\n",
    "print (f'Python version: {sys.version}')\n",
    "print (f'Pandas version: {pd.__version__}')\n",
    "\n",
    "swagger_link= Markdown(f\"[Swagger on {session.url}]({session.url}/docs/swagger-ui/index.html?url=/assets/swagger.json#/)\")\n",
    "\n",
    "# list all modules\n",
    "result= session.request(endPoint= '/modules', http= 'GET', verbose= True)\n",
    "print('Modules :\\n', result)"
   ]
  },
  {
   "cell_type": "code",
   "execution_count": null,
   "metadata": {},
   "outputs": [],
   "source": [
    "swagger_link"
   ]
  },
  {
   "cell_type": "markdown",
   "metadata": {},
   "source": [
    "## Monitoring Module"
   ]
  },
  {
   "cell_type": "markdown",
   "metadata": {},
   "source": [
    "### using monitoring_flat"
   ]
  },
  {
   "cell_type": "code",
   "execution_count": null,
   "metadata": {},
   "outputs": [],
   "source": [
    "module= 'monitoring_flat'"
   ]
  },
  {
   "cell_type": "markdown",
   "metadata": {},
   "source": [
    "### get pivots in this module"
   ]
  },
  {
   "cell_type": "code",
   "execution_count": null,
   "metadata": {},
   "outputs": [],
   "source": [
    "# get all pivots and buil a dict of pivots\n",
    "res= session.request(endPoint= f'/module/{module}/pivot', http= 'GET')\n",
    "pivots= {pivot['name']: pivot for pivot in res}\n"
   ]
  },
  {
   "cell_type": "code",
   "execution_count": null,
   "metadata": {
    "scrolled": false
   },
   "outputs": [],
   "source": [
    "pivots"
   ]
  },
  {
   "cell_type": "code",
   "execution_count": null,
   "metadata": {},
   "outputs": [],
   "source": [
    "# pivot names\n",
    "pivots.keys()"
   ]
  },
  {
   "cell_type": "markdown",
   "metadata": {},
   "source": [
    "### Create a pivot and send a request from it "
   ]
  },
  {
   "cell_type": "code",
   "execution_count": null,
   "metadata": {},
   "outputs": [],
   "source": [
    "pivots['endpoint_database_queries']"
   ]
  },
  {
   "cell_type": "code",
   "execution_count": null,
   "metadata": {
    "scrolled": true
   },
   "outputs": [],
   "source": [
    "p= rafal.Pivot(pivots['endpoint_database_queries'])"
   ]
  },
  {
   "cell_type": "code",
   "execution_count": null,
   "metadata": {},
   "outputs": [],
   "source": [
    "type(p)"
   ]
  },
  {
   "cell_type": "code",
   "execution_count": null,
   "metadata": {},
   "outputs": [],
   "source": [
    "p.metrics"
   ]
  },
  {
   "cell_type": "code",
   "execution_count": null,
   "metadata": {},
   "outputs": [],
   "source": [
    "p.dimensions"
   ]
  },
  {
   "cell_type": "code",
   "execution_count": null,
   "metadata": {},
   "outputs": [],
   "source": [
    "# list all metrics\n",
    "p.metrics"
   ]
  },
  {
   "cell_type": "code",
   "execution_count": null,
   "metadata": {},
   "outputs": [],
   "source": [
    "# list all metrics\n",
    "p.metrics.keys()"
   ]
  },
  {
   "cell_type": "code",
   "execution_count": null,
   "metadata": {},
   "outputs": [],
   "source": [
    "f1= rafal.Filter(dimension= \"request_path\", match= '^/[^dlp]')\n",
    "f2= rafal.Filter(dimension= \"username\", values= 'guillaume')\n",
    "f1"
   ]
  },
  {
   "cell_type": "code",
   "execution_count": null,
   "metadata": {},
   "outputs": [],
   "source": [
    "f2"
   ]
  },
  {
   "cell_type": "code",
   "execution_count": null,
   "metadata": {},
   "outputs": [],
   "source": [
    "f1 & f2"
   ]
  },
  {
   "cell_type": "code",
   "execution_count": null,
   "metadata": {},
   "outputs": [],
   "source": [
    "fields= [\"access_time\", \"result_code\", \"request_id\", \"request_path\", \"username\"]"
   ]
  },
  {
   "cell_type": "code",
   "execution_count": null,
   "metadata": {},
   "outputs": [],
   "source": [
    "df= session.reqPivot(pivot= p, \n",
    "                     metrics= ['count'], \n",
    "                     by= fields, \n",
    "                     where= f1 & f2\n",
    "                    )\n",
    "df1= df.sort_values('access_time')\n",
    "\n",
    "print(f\"{len(df1)} requests recorded from {df1.access_time.iloc[0]} to {df1.access_time.iloc[-1]} (UTF Timezone)\")"
   ]
  },
  {
   "cell_type": "code",
   "execution_count": null,
   "metadata": {},
   "outputs": [],
   "source": [
    "df1"
   ]
  },
  {
   "cell_type": "code",
   "execution_count": null,
   "metadata": {},
   "outputs": [],
   "source": [
    "df1.request_path.unique()"
   ]
  },
  {
   "cell_type": "code",
   "execution_count": null,
   "metadata": {},
   "outputs": [],
   "source": [
    "version= session.branches(table= p.table, user= session.user, output= 'versioning')\n",
    "version"
   ]
  },
  {
   "cell_type": "code",
   "execution_count": null,
   "metadata": {},
   "outputs": [],
   "source": [
    "reqdef= p.reqdef(metrics= ['count'], \n",
    "         by= fields, \n",
    "         where= (f1 & f2).content, \n",
    "         versioning= version)\n",
    "reqdef"
   ]
  },
  {
   "cell_type": "code",
   "execution_count": null,
   "metadata": {},
   "outputs": [],
   "source": [
    "df1= session.request(endPoint=f'/module/{p.module}/query', jsonText= reqdef, output= 'json')\n",
    "df1"
   ]
  },
  {
   "cell_type": "code",
   "execution_count": null,
   "metadata": {},
   "outputs": [],
   "source": [
    "# check last request body\n",
    "session.last_body()"
   ]
  },
  {
   "cell_type": "code",
   "execution_count": null,
   "metadata": {},
   "outputs": [],
   "source": []
  },
  {
   "cell_type": "code",
   "execution_count": null,
   "metadata": {},
   "outputs": [],
   "source": []
  }
 ],
 "metadata": {
  "kernelspec": {
   "display_name": "Python 3",
   "language": "python",
   "name": "python3"
  },
  "language_info": {
   "codemirror_mode": {
    "name": "ipython",
    "version": 3
   },
   "file_extension": ".py",
   "mimetype": "text/x-python",
   "name": "python",
   "nbconvert_exporter": "python",
   "pygments_lexer": "ipython3",
   "version": "3.7.6"
  }
 },
 "nbformat": 4,
 "nbformat_minor": 4
}
