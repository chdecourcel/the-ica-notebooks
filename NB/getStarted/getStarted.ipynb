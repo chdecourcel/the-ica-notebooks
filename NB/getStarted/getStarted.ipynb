{
 "cells": [
  {
   "cell_type": "markdown",
   "metadata": {},
   "source": [
    "# get started with Rafal API requests"
   ]
  },
  {
   "cell_type": "markdown",
   "metadata": {},
   "source": [
    "In this notebook we will see how to connect to Rafal, get module's and pivot's definitions, and retrieve some data on **sensi** module via a pivot **delta**"
   ]
  },
  {
   "cell_type": "markdown",
   "metadata": {},
   "source": [
    "## Connection to Rafal"
   ]
  },
  {
   "cell_type": "code",
   "execution_count": null,
   "metadata": {},
   "outputs": [],
   "source": [
    "import json\n",
    "import pandas as pd\n",
    "from uuid import uuid4\n",
    "import requests"
   ]
  },
  {
   "cell_type": "code",
   "execution_count": null,
   "metadata": {},
   "outputs": [],
   "source": [
    "url = \"http://review_ops-mongo-deploy-update.the-ica.ninja:8080\"\n",
    "user = \"tbonald\"\n",
    "password = \"test21\""
   ]
  },
  {
   "cell_type": "markdown",
   "metadata": {},
   "source": [
    "http://review_ops-mongo-deploy-update.the-ica.ninja:8080/docs/swagger-ui/index.html?url=/assets/swagger.json#"
   ]
  },
  {
   "cell_type": "code",
   "execution_count": null,
   "metadata": {},
   "outputs": [],
   "source": [
    "# login and token retrieval\n",
    "resp= requests.post(f\"{url.rstrip('/')}/login\",\n",
    "                     json={\"identifier\": user,\"password\": password},\n",
    "                    )\n",
    "token= resp.json()['token']\n",
    "token"
   ]
  },
  {
   "cell_type": "code",
   "execution_count": null,
   "metadata": {},
   "outputs": [],
   "source": [
    "# headers fields sent to all subsequent Rafal requests\n",
    "kwcnx = dict(headers={'Authorization': token, \"Content-Type\": \"application/json\"})"
   ]
  },
  {
   "cell_type": "code",
   "execution_count": null,
   "metadata": {},
   "outputs": [],
   "source": [
    "# testing connection & server version\n",
    "resp= requests.get(url.rstrip('/') + '/ping')\n",
    "print(f\"Rafal version = {resp.json()['version']}\")\n",
    "print(f\"Rafal DB version = {resp.json()['dbVersion']}\")"
   ]
  },
  {
   "cell_type": "markdown",
   "metadata": {},
   "source": [
    "## Get some definitions "
   ]
  },
  {
   "cell_type": "code",
   "execution_count": null,
   "metadata": {},
   "outputs": [],
   "source": [
    "# get modules\n",
    "resp= requests.get(url= f'{url}/modules', **kwcnx)\n",
    "resp.json()"
   ]
  },
  {
   "cell_type": "code",
   "execution_count": null,
   "metadata": {},
   "outputs": [],
   "source": [
    "# Get module definition for sensi module\n",
    "module= 'sensi'\n",
    "resp= requests.get(url= f'{url}/module/{module}/definition', **kwcnx)\n",
    "resp.json()"
   ]
  },
  {
   "cell_type": "code",
   "execution_count": null,
   "metadata": {},
   "outputs": [],
   "source": [
    "# Get pivots definitions of sensi module\n",
    "module= 'sensi'\n",
    "resp= requests.get(url= f'{url}/module/{module}/pivot', **kwcnx)\n",
    "resp.json()"
   ]
  },
  {
   "cell_type": "code",
   "execution_count": null,
   "metadata": {},
   "outputs": [],
   "source": [
    "# create a dict of pivots def\n",
    "pivotdef = {pivotdef['name']: pivotdef for pivotdef in resp.json()}\n",
    "pivotdef.keys()"
   ]
  },
  {
   "cell_type": "markdown",
   "metadata": {},
   "source": [
    "## Send a pivot request on sensi module"
   ]
  },
  {
   "cell_type": "markdown",
   "metadata": {},
   "source": [
    "### Data versioning"
   ]
  },
  {
   "cell_type": "code",
   "execution_count": null,
   "metadata": {},
   "outputs": [],
   "source": [
    "# Get branches for the current user and the pivot table\n",
    "module= 'sensi'\n",
    "table= pivotdef['delta']['table']\n",
    "resp= requests.get(url= f'{url}/tables/{table}/branches', **kwcnx)\n",
    "df= pd.DataFrame.from_records(resp.json()['branches'])[lambda x: x.user == user]\n",
    "df"
   ]
  },
  {
   "cell_type": "code",
   "execution_count": null,
   "metadata": {},
   "outputs": [],
   "source": [
    "# select an asOf date and convert for versioning\n",
    "date= '2019-04-12'\n",
    "versioning = df[df.date == date][['commit', 'date']].rename(columns= {'date': 'asOf'}).to_dict(orient= 'records')\n",
    "versioning"
   ]
  },
  {
   "cell_type": "markdown",
   "metadata": {},
   "source": [
    "### Create request parameters"
   ]
  },
  {
   "cell_type": "code",
   "execution_count": null,
   "metadata": {},
   "outputs": [],
   "source": [
    "module= 'sensi'"
   ]
  },
  {
   "cell_type": "code",
   "execution_count": null,
   "metadata": {},
   "outputs": [],
   "source": [
    "# request parameters\n",
    "my_uuid1= str(uuid4())\n",
    "reqParam= {\n",
    "    \"metrics\": [\n",
    "        \"Sensitivity\"\n",
    "    ],\n",
    "    \"postaggregaggr\": {\n",
    "        \n",
    "    },\n",
    "    \"with_facet\": True,\n",
    "    \"filter_on_query\": None,\n",
    "    \"batch\": False,\n",
    "    \"batch_description\": None,\n",
    "    \"currency\": None,\n",
    "    \"pivot\": \"delta\",\n",
    "    \"by\": [\n",
    "        \"BusinessLine\",\n",
    "        \"Desk\",\n",
    "        \"Book\",\n",
    "        \"RiskClass\"\n",
    "    ],\n",
    "    \"where\": {\n",
    "        \"Date\": {\n",
    "            \"values\": [\n",
    "                \"2019-04-15\"\n",
    "            ],\n",
    "            \"notValues\": [\n",
    "                \n",
    "            ],\n",
    "            \"ranges\": [\n",
    "                \n",
    "            ],\n",
    "            \"dateRanges\": [\n",
    "                \n",
    "            ],\n",
    "            \"sql\": None,\n",
    "            \"match\": None\n",
    "        }\n",
    "    },\n",
    "    \"versioning\": [\n",
    "        {\n",
    "            \"commit\": \"e3b0c44298fc1c149afbf4c8996fb92427ae41e4649b934ca495991b7852b855\",\n",
    "            \"asOf\": \"2019-04-15\"\n",
    "        }\n",
    "    ],\n",
    "    \"query_id\": my_uuid1\n",
    "}"
   ]
  },
  {
   "cell_type": "markdown",
   "metadata": {},
   "source": [
    "### Send request and get results"
   ]
  },
  {
   "cell_type": "code",
   "execution_count": null,
   "metadata": {},
   "outputs": [],
   "source": [
    "# Get pivots definitions of sensi module with a POST http request\n",
    "resp= requests.post(url= f'{url}/module/{module}/query', json= reqParam, **kwcnx)\n",
    "resp.text[:500]"
   ]
  },
  {
   "cell_type": "code",
   "execution_count": null,
   "metadata": {},
   "outputs": [],
   "source": [
    "df= pd.read_json(resp.text, orient='records',lines= True)\n",
    "df"
   ]
  },
  {
   "cell_type": "code",
   "execution_count": null,
   "metadata": {},
   "outputs": [],
   "source": []
  }
 ],
 "metadata": {
  "kernelspec": {
   "display_name": "Python 3",
   "language": "python",
   "name": "python3"
  },
  "language_info": {
   "codemirror_mode": {
    "name": "ipython",
    "version": 3
   },
   "file_extension": ".py",
   "mimetype": "text/x-python",
   "name": "python",
   "nbconvert_exporter": "python",
   "pygments_lexer": "ipython3",
   "version": "3.7.6"
  }
 },
 "nbformat": 4,
 "nbformat_minor": 4
}
