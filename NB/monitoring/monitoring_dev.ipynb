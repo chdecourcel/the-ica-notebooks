{
 "cells": [
  {
   "cell_type": "markdown",
   "metadata": {},
   "source": [
    "## Connect to Rafal"
   ]
  },
  {
   "cell_type": "code",
   "execution_count": null,
   "metadata": {
    "scrolled": false
   },
   "outputs": [],
   "source": [
    "# load connection script\n",
    "%run ../../etc/rafal_load.py\n",
    "\n",
    "uiConnect"
   ]
  },
  {
   "cell_type": "markdown",
   "metadata": {},
   "source": [
    "## Monitoring Module"
   ]
  },
  {
   "cell_type": "markdown",
   "metadata": {},
   "source": [
    "### using monitoring_flat"
   ]
  },
  {
   "cell_type": "code",
   "execution_count": null,
   "metadata": {},
   "outputs": [],
   "source": [
    "from ipywidgets import widgets\n",
    "import plotly.graph_objects as go\n",
    "import plotly.express as px\n",
    "import re"
   ]
  },
  {
   "cell_type": "code",
   "execution_count": null,
   "metadata": {},
   "outputs": [],
   "source": [
    "module= 'monitoring_flat'\n",
    "catg= ['client_hostname', 'request_path', 'result_code', 'server_hostname',\n",
    "       'server_id', 'username', 'module', 'pivot', 'calculateur', 'label']\n",
    "\n",
    "metrics= [\"query\", \"sumQueryDuration\", \"sumQueryMemoryUsage\", \n",
    "          \"sumQueryReadBytes\", \"sumQueryResultBytes\", \"sumQueryWrittenBytes\"]\n",
    "aggDict= {fld.replace('sum', '') if 'sum' in fld else 'Count': (fld, 'count' if fld == 'query' else 'sum') for fld in metrics}\n",
    "\n",
    "my_uuid1= str(uuid4())\n",
    "request_content = {\n",
    "    \"metrics\": [\"count\",\"sumQueryDuration\", \"sumQueryMemoryUsage\", \n",
    "               \"sumQueryReadBytes\", \"sumQueryResultBytes\", \"sumQueryWrittenBytes\"],\n",
    "    \"postaggregaggr\": {},\n",
    "    \"with_facet\": True,\n",
    "    \"filter_on_query\": None,\n",
    "    \"batch\": False,\n",
    "    \"batch_description\": None,\n",
    "    \"currency\": None,\n",
    "    \"pivot\": \"endpoint_database_queries\",\n",
    "    \"by\": [\"access_time\",\n",
    "        \"client_hostname\",\n",
    "        \"request_id\",\n",
    "        \"request_body\",\n",
    "        \"request_path\",\n",
    "        \"result_code\",\n",
    "        \"server_hostname\",\n",
    "        \"server_id\",\n",
    "        \"username\",\n",
    "        \"is_initial_query\",\n",
    "        \"query\",\n",
    "        \"query_start_time\",\n",
    "        \"query_read_rows\",\n",
    "        \"query_id\",],\n",
    "    \"where\": {\n",
    "        \"@and\": [{\"request_path\": {\"match\": \"^/module/\"}}]\n",
    "    },\n",
    "    \"versioning\": [],\n",
    "    \"query_id\":  my_uuid1\n",
    "}"
   ]
  },
  {
   "cell_type": "markdown",
   "metadata": {},
   "source": [
    "## plotly"
   ]
  },
  {
   "cell_type": "markdown",
   "metadata": {},
   "source": [
    "## Figure Widgets"
   ]
  },
  {
   "cell_type": "code",
   "execution_count": null,
   "metadata": {},
   "outputs": [],
   "source": [
    "def get_hour_freq(timeSerie):\n",
    "    hl= [0.25, 0.5, 1, 2, 3, 6, 12, 24, 168]\n",
    "    span= timeSerie.max()- timeSerie.min()\n",
    "    period= max(int((span / pd.offsets.Hour()) / 60), hl[0])\n",
    "    return [h for h in hl if h <= period][-1]\n",
    "\n",
    "def monitoringRefresh(session):\n",
    "    \"\"\"get rafal_logging pivot response\"\"\"\n",
    "    resp= session.request(endPoint= f'/module/{module}/query', http= 'POST', jsonText= request_content, \n",
    "                          output= 'json', verbose= False)\n",
    "\n",
    "    # convert the data in Dataframe and filter monitoring request\n",
    "    df0= pd.read_json(resp, orient='records',lines= True)\n",
    "    df= df0[~df0.request_path.str.contains(r'monitoring')]\n",
    "    # check unicity of query_id\n",
    "    #assert (df['count'] == 1).all()\n",
    "\n",
    "    df= df.assign(module= df.request_path.str.extract(r'^/module/(\\w*)/', expand= False).fillna('-'),\n",
    "                  pivot= df.request_body.str.extract(r'\"pivot\":\"(\\w*)\"').fillna('-'),\n",
    "                  calculateur= df.request_body.str.extract(r'\"calculatorName\":\"(\\w*)\"').fillna('-'),\n",
    "                  by= df.request_body.str.extract(r'\"by\":\\[(?P<by>(\"\\w*\")*)\\]', expand = False)['by'],\n",
    "                  metrics= df.request_body.str.extract(r'\"metrics\":\\[(?P<metrics>(\"\\w*\")*)\\]', expand = False)['metrics'],\n",
    "                  versioning= df.request_body.str.extract(r'\"versioning\":\\[(?P<versioning>(.*))\\]', expand = False)['versioning']\n",
    "                 )\n",
    "    df['label']= df.module + '/' + df['pivot'].str.replace('-', '') + df['calculateur'].str.replace('-', '') + (df['pivot']!='-').map({True:' piv'}).fillna((df['calculateur']!='-').map({True:' calc'}))\n",
    "    # adjust sample frequency in Hour\n",
    "    near_hour_freq= get_hour_freq(df.access_time)\n",
    "    return df.groupby([*catg, pd.Grouper(key='access_time', freq= f'{near_hour_freq}H')]).agg(**aggDict).reset_index()\n",
    "\n",
    "def getHostname(url):\n",
    "    return re.match('http://(.*):', url).groups()[0]\n",
    "\n",
    "def pxBuild(dfmon, metric):\n",
    "    return px.bar(dfmon, x= wXaxis.value, y= metric, \n",
    "               hover_data=['Count', 'QueryDuration', 'QueryReadBytes', 'QueryMemoryUsage'], \n",
    "               color= wColor.value,\n",
    "               labels={'QueryMemoryUsage':'Memory Usage in Bytes'}, height = 400)\n",
    "\n",
    "\n",
    "def requestServer(change):\n",
    "    if session.url != wServer.value.strip('/'):\n",
    "        with wOutConnect:\n",
    "            wOutConnect.clear_output()\n",
    "            print(f'Please connect first to the server by clicking the [Connect] button !')\n",
    "            return\n",
    "    else:\n",
    "        with wOutConnect:\n",
    "            wOutConnect.clear_output()\n",
    "            print(f'Requesting data from {session.url}.\\nPlease wait ...', end=' ')\n",
    "            dfmon= monitoringRefresh(session)\n",
    "            print(dfmon.iloc[0]['server_hostname'])\n",
    "            print(f'Done !')        \n",
    "\n",
    "def validate():\n",
    "    return True\n",
    "\n",
    "def updFigure(change):\n",
    "    if validate():\n",
    "        pxFig= pxBuild(dfmon, wMetric.value)            \n",
    "        new_data= {'x': [getattr(trace, 'x') for trace in pxFig.data],\n",
    "                   'y': [getattr(trace, 'y') for trace in pxFig.data],\n",
    "                  }        \n",
    "        with gf.batch_update():\n",
    "            gf.plotly_update(restyle_data= new_data, \n",
    "                             relayout_data= {'yaxis.title.text': wMetric.value,\n",
    "                                             'xaxis.title.text': dfmon.iloc[0]['server_hostname']})"
   ]
  },
  {
   "cell_type": "code",
   "execution_count": null,
   "metadata": {},
   "outputs": [],
   "source": [
    "dfmon= monitoringRefresh(session)"
   ]
  },
  {
   "cell_type": "code",
   "execution_count": null,
   "metadata": {
    "scrolled": false
   },
   "outputs": [],
   "source": [
    "wXaxis= widgets.Dropdown(\n",
    "        description='X axis',\n",
    "        options= ['access_time'] + catg,\n",
    "        value= 'access_time'\n",
    "    )\n",
    "wColor= widgets.Dropdown(\n",
    "        description='Color',\n",
    "        options= catg,\n",
    "        value= 'label'\n",
    "    )\n",
    "wMetric= widgets.Dropdown(\n",
    "    description='metric',\n",
    "    options= aggDict.keys(),\n",
    "    value= 'Count'\n",
    ")\n",
    "bRetrieve = widgets.Button(description='Retrieve data', button_style='warning',)\n",
    "bRetrieve.on_click(requestServer)\n",
    "wConnect= widgets.HBox([widgets.Label('Rafal server'), wServer, button, bRetrieve])\n",
    "wOutConnect= widgets.Output()\n",
    "wDimensions= widgets.HBox([wXaxis, wColor])\n",
    "out = widgets.Output(layout={'border': '1px solid black'})\n",
    "\n",
    "wDimensions"
   ]
  },
  {
   "cell_type": "code",
   "execution_count": null,
   "metadata": {},
   "outputs": [],
   "source": [
    "#bRetrieve._click_handlers.callbacks=[]\n",
    "wMetric.observe(updFigure, names= \"value\")\n",
    "\n",
    "#print(f'Requesting data from {wServer.value}.\\nPlease wait ...')\n",
    "#dfmon= monitoringRefresh(session)\n",
    "#print(f'Computing monitoring data ...', end=' ')\n",
    "pxFig= pxBuild(dfmon, wMetric.value)\n",
    "#print(f'Done !')\n",
    "gf= go.FigureWidget(data= pxFig.data, layout= pxFig.layout)\n",
    "gf.layout.title.text = f'Monitoring on Rafal@{getHostname(wServer.value)}'\n",
    "ui = widgets.VBox([wMetric, gf])\n",
    "\n",
    "ui"
   ]
  },
  {
   "cell_type": "code",
   "execution_count": null,
   "metadata": {},
   "outputs": [],
   "source": [
    "dfmon"
   ]
  },
  {
   "cell_type": "code",
   "execution_count": null,
   "metadata": {},
   "outputs": [],
   "source": []
  }
 ],
 "metadata": {
  "kernelspec": {
   "display_name": "Python 3",
   "language": "python",
   "name": "python3"
  },
  "language_info": {
   "codemirror_mode": {
    "name": "ipython",
    "version": 3
   },
   "file_extension": ".py",
   "mimetype": "text/x-python",
   "name": "python",
   "nbconvert_exporter": "python",
   "pygments_lexer": "ipython3",
   "version": "3.7.6"
  }
 },
 "nbformat": 4,
 "nbformat_minor": 4
}
