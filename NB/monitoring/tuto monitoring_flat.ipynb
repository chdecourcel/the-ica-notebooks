{
 "cells": [
  {
   "cell_type": "code",
   "execution_count": null,
   "metadata": {},
   "outputs": [],
   "source": [
    "import sys\n",
    "import json\n",
    "import pandas as pd\n",
    "from uuid import uuid4\n",
    "\n",
    "import ipywidgets as widgets\n",
    "from IPython.display import display\n",
    "from IPython.core.display import Markdown\n",
    "\n",
    "import rafal\n",
    "\n",
    "# Config loading : modify in the config.json file\n",
    "config = json.load(open('config.json'))\n",
    "user= config['Rafal.user']\n",
    "url = config['Rafal.url']\n",
    "\n",
    "pwd_exists = bool(config.get('Rafal.password', None)) \n",
    "wPwd= widgets.Password(value= '',\n",
    "                      placeholder= 'from config' if pwd_exists else 'Enter password',\n",
    "                      disabled= pwd_exists\n",
    "                     )\n",
    "\n",
    "display(widgets.HBox([widgets.Label('Password for Rafal API :'), wPwd]))\n",
    "\n",
    "# proxy parameters\n",
    "proxies = (config['proxies'] if config['proxies']['http'] or config['proxies']['https'] \n",
    "           else None)"
   ]
  },
  {
   "cell_type": "code",
   "execution_count": null,
   "metadata": {},
   "outputs": [],
   "source": [
    "# get password\n",
    "pwd= config['Rafal.password'] if pwd_exists else wPwd.value\n",
    "if not pwd:\n",
    "    print('Please write your password first !')\n",
    "\n",
    "# open a new rafal session and connect\n",
    "session= rafal.Session(verbose= True)\n",
    "session.connect(url= url, login= user, pwd= pwd, proxies= proxies)\n",
    "\n",
    "# Python version\n",
    "print (f'Python version: {sys.version}')\n",
    "print (f'Pandas version: {pd.__version__}')\n",
    "\n",
    "swagger_link= Markdown(f\"[Swagger on {session.url}]({session.url}/docs/swagger-ui/index.html?url=/assets/swagger.json#/)\")\n",
    "\n",
    "# list all modules\n",
    "result= session.request(endPoint= '/modules', http= 'GET', verbose= True)\n",
    "print('Modules :\\n', result)"
   ]
  },
  {
   "cell_type": "code",
   "execution_count": null,
   "metadata": {},
   "outputs": [],
   "source": [
    "result"
   ]
  },
  {
   "cell_type": "code",
   "execution_count": null,
   "metadata": {},
   "outputs": [],
   "source": [
    "swagger_link"
   ]
  },
  {
   "cell_type": "markdown",
   "metadata": {},
   "source": [
    "## Monitoring Module"
   ]
  },
  {
   "cell_type": "markdown",
   "metadata": {},
   "source": [
    "### using monitoring_flat"
   ]
  },
  {
   "cell_type": "code",
   "execution_count": null,
   "metadata": {},
   "outputs": [],
   "source": [
    "module= 'monitoring_flat'"
   ]
  },
  {
   "cell_type": "markdown",
   "metadata": {},
   "source": [
    "## Rafal logs\n",
    "\n",
    "Table description\n",
    "\n",
    "* **dateTime**: a timestamp of when the logging event was performed\n",
    "* **level**: the level of the logging event\n",
    "* **message**: the log message\n",
    "* **threadName**: the name of the thread that generated the logging event\n",
    "* **className**: the name of the class that generated the logging event\n",
    "* **context keys**: Array of keys for the logging context (ie: “server-id,user,id”)\n",
    "* **context value**: Array of values for the logging context (ie: “69c0ace2-f5c7-4368-bd18-12e8fec588a1, guillaume, 2”)\n",
    "* **stack trace**: location information for errors logged by the log system\n"
   ]
  },
  {
   "cell_type": "markdown",
   "metadata": {},
   "source": [
    "### requesting using *rafal-logging* pivot"
   ]
  },
  {
   "cell_type": "markdown",
   "metadata": {},
   "source": [
    "Use the following Rafal request content :"
   ]
  },
  {
   "cell_type": "code",
   "execution_count": null,
   "metadata": {},
   "outputs": [],
   "source": [
    "my_uuid1= str(uuid4())\n",
    "request_content= {\n",
    "    \"metric\": None,\n",
    "    \"postaggregaggr\": None,\n",
    "    \"with_facet\": True,\n",
    "    \"filter_on_query\": None,\n",
    "    \"batch\": False,\n",
    "    \"batch_description\": None,\n",
    "    \"currency\": None,\n",
    "    \"pivot\": \"rafal-logging\",\n",
    "    \"by\": [\n",
    "        \"dateTime\",\n",
    "        \"className\",\n",
    "        \"message\",\n",
    "        \"level\",\n",
    "        \"stackTrace\",\n",
    "        \"threadName\",\n",
    "        \"context_key\",\n",
    "        \"context_value\"\n",
    "    ],\n",
    "    \"where\": {\n",
    "        \"@and\": []\n",
    "    },\n",
    "    \"versioning\": [],\n",
    "    \"query_id\": my_uuid1\n",
    "}"
   ]
  },
  {
   "cell_type": "code",
   "execution_count": null,
   "metadata": {},
   "outputs": [],
   "source": [
    "# get rafal_logging pivot response\n",
    "resp= session.request(endPoint= f'/module/{module}/query', http= 'POST', jsonText= request_content, output= 'json')\n",
    "len(resp)"
   ]
  },
  {
   "cell_type": "code",
   "execution_count": null,
   "metadata": {},
   "outputs": [],
   "source": [
    "resp[:2000]"
   ]
  },
  {
   "cell_type": "code",
   "execution_count": null,
   "metadata": {},
   "outputs": [],
   "source": [
    "# convert the data in Dataframe\n",
    "df= pd.read_json(resp, orient='records',lines= True)\n",
    "df.head()"
   ]
  },
  {
   "cell_type": "code",
   "execution_count": null,
   "metadata": {},
   "outputs": [],
   "source": [
    "# reshape Dataframe\n",
    "cols= ['className', 'level', 'message', 'stackTrace', 'threadName']\n",
    "df2= pd.pivot_table(df, index= ['dateTime'] + cols, \n",
    "               columns= ['context_key'], values= 'context_value', aggfunc= sum, fill_value= ''\n",
    "                   ).reset_index(cols).sort_index()\n",
    "print(f\"{len(df2)} records\")\n",
    "df2"
   ]
  },
  {
   "cell_type": "code",
   "execution_count": null,
   "metadata": {},
   "outputs": [],
   "source": []
  },
  {
   "cell_type": "markdown",
   "metadata": {},
   "source": [
    "## Endpoint records\n",
    "\n",
    "Table description\n",
    "\n",
    "* **accessTime**: time and date at which the endpoint was called\n",
    "* **accessDate**: date at which the endpoint was called\n",
    "* **finishTime**: time and date at which the endpoint answered.\n",
    "* **serverInstance**: server UUID.\n",
    "* **serverHostname**: server IP and port.\n",
    "* **ClientHostName**: client host name\n",
    "* **requestId**: per-run request unique id.\n",
    "* **requestBodyMimetype**: the type of the data (ie: application/json, text/csv, etc.)\n",
    "* **requestMethod**: request method performed (GET, POST, DELETE,...)\n",
    "* **requestPath**: the request endpoint used\n",
    "* **requestBody**: request body provided (if sane to store)\n",
    "* **userName**: name of the user that performed the call to the endpoint.\n",
    "* **endpointDuration**: amount of time in milliseconds it took the endpoint to respond.\n",
    "* **resultBodyMimetype**: the type of the result (ie: application/json)\n",
    "* **resultCode**: code returned by the endpoint.\n",
    "* **queryIds**: vector that contains the id of every clickhouse query executed by the endpoint. Ability to cross reference that with the query log table to get additional information on the queries the endpoint ran.\n",
    "* **errorJson**: in case of error, the Json returned.\n",
    "* **errorId**: if any, the error ID\n",
    "* **errorType**: if any, the error type\n",
    "* **errorMessage**: if any, the error message"
   ]
  },
  {
   "cell_type": "markdown",
   "metadata": {},
   "source": [
    "### requesting using *endpoint_records* pivot"
   ]
  },
  {
   "cell_type": "markdown",
   "metadata": {},
   "source": [
    "### please wait 20 sec before capturing this request to let the system log the 1st notebook request"
   ]
  },
  {
   "cell_type": "code",
   "execution_count": null,
   "metadata": {},
   "outputs": [],
   "source": [
    "import time\n",
    "time.sleep(20)"
   ]
  },
  {
   "cell_type": "markdown",
   "metadata": {},
   "source": [
    "Use the following Rafal request content :"
   ]
  },
  {
   "cell_type": "code",
   "execution_count": null,
   "metadata": {},
   "outputs": [],
   "source": [
    "my_uuid= str(uuid4())\n",
    "request_content= {\n",
    "    \"metrics\": [\"count\"],\n",
    "    \"with_facet\": False,\n",
    "    \"pivot\": \"endpoint_records\",\n",
    "    \"by\": [\n",
    "        \"access_time\", \n",
    "        \"access_date\", \n",
    "        \"server_id\", \n",
    "        \"server_hostname\", \n",
    "        \"client_hostname\", \n",
    "        \"username\", \n",
    "        \"request_id\", \n",
    "        \"request_body_mimetype\", \n",
    "        \"request_method\", \n",
    "        \"request_path\", \n",
    "        \"request_body\", \n",
    "        \"result_body_mimetype\", \n",
    "        \"result_code\", \n",
    "        \"error_json\", \n",
    "        \"error_id\", \n",
    "        \"error_type\", \n",
    "        \"error_message\", \n",
    "        \"finish_time\"\n",
    "    ],\n",
    "    \"where\": {\n",
    "        \"request_path\": { \"match\": \"^/[^dlp]\" }\n",
    "    },\n",
    "    \"versioning\": [],\n",
    "    \"query_id\": my_uuid\n",
    "}"
   ]
  },
  {
   "cell_type": "code",
   "execution_count": null,
   "metadata": {},
   "outputs": [],
   "source": [
    "request_content"
   ]
  },
  {
   "cell_type": "code",
   "execution_count": null,
   "metadata": {},
   "outputs": [],
   "source": []
  },
  {
   "cell_type": "code",
   "execution_count": null,
   "metadata": {},
   "outputs": [],
   "source": []
  },
  {
   "cell_type": "code",
   "execution_count": null,
   "metadata": {},
   "outputs": [],
   "source": [
    "# get rafal_logging pivot response\n",
    "df0= session.request(endPoint= f'/module/{module}/query', http= 'POST', jsonText= request_content, output= 'Dataframe')\n",
    "df0.head()"
   ]
  },
  {
   "cell_type": "raw",
   "metadata": {},
   "source": [
    "# convert the data in Dataframe\n",
    "df= pd.read_json(resp, orient='records',lines=True).set_index('access_time').sort_index()\n",
    "df"
   ]
  },
  {
   "cell_type": "code",
   "execution_count": null,
   "metadata": {},
   "outputs": [],
   "source": [
    "# convert the data in Dataframe\n",
    "df= df0.set_index('access_time').sort_index()\n",
    "df"
   ]
  },
  {
   "cell_type": "code",
   "execution_count": null,
   "metadata": {},
   "outputs": [],
   "source": [
    "# records nb by user & result_code\n",
    "df.groupby(['username', 'result_code']).request_id.count().unstack(0)"
   ]
  },
  {
   "cell_type": "code",
   "execution_count": null,
   "metadata": {},
   "outputs": [],
   "source": [
    "# records nb by user & endPoint\n",
    "df.groupby(['username', 'request_path']).request_id.count().unstack(0)"
   ]
  },
  {
   "cell_type": "code",
   "execution_count": null,
   "metadata": {
    "scrolled": false
   },
   "outputs": [],
   "source": [
    "# select requests with Rafal error\n",
    "df[df.error_id != '']"
   ]
  },
  {
   "cell_type": "code",
   "execution_count": null,
   "metadata": {},
   "outputs": [],
   "source": [
    "# select all \"pivot\" requests\n",
    "df[df.request_body.str.contains('\"pivot\"')]"
   ]
  },
  {
   "cell_type": "code",
   "execution_count": null,
   "metadata": {},
   "outputs": [],
   "source": [
    "# select this notebook first monitoring request & print the request body\n",
    "# please wait 20 sec before capturing your request, or else it may not be available in monitoring records\n",
    "row= df[df.request_body.str.contains(my_uuid1)]\n",
    "row.T"
   ]
  },
  {
   "cell_type": "code",
   "execution_count": null,
   "metadata": {},
   "outputs": [],
   "source": [
    "row.request_body.values"
   ]
  },
  {
   "cell_type": "code",
   "execution_count": null,
   "metadata": {},
   "outputs": [],
   "source": [
    "# print the request body\n",
    "if not row.empty:\n",
    "    my_requestId= row.request_id.iloc[0]\n",
    "    print(f\"print request_body for request_id = {my_requestId} :\")\n",
    "    print(json.loads(row.request_body.iloc[0]))\n",
    "else:\n",
    "    my_requestId= None"
   ]
  },
  {
   "cell_type": "code",
   "execution_count": null,
   "metadata": {},
   "outputs": [],
   "source": []
  },
  {
   "cell_type": "markdown",
   "metadata": {},
   "source": [
    "## endpoint_database_queries: Capturing all the queries created from a given request\n",
    "\n",
    "Table *endpoint_query_inspection(_flat)* description\n",
    "\n",
    "* **accessTime**: time and date at which the endpoint was called\n",
    "* **accessDate**: date at which the endpoint was called\n",
    "* **finishTime**: time and date at which the endpoint answered.\n",
    "* **serverInstance**: server UUID.\n",
    "* **serverHostname**: server IP and port.\n",
    "* **ClientHostName**: client host name\n",
    "* **requestId**: per-run request unique id.\n",
    "* **requestBodyMimetype**: the type of the data (ie: application/json, text/csv, etc.)\n",
    "* **requestMethod**: request method performed (GET, POST, DELETE,...)\n",
    "* **requestPath**: the request endpoint used\n",
    "* **requestBody**: request body provided (if sane to store)\n",
    "* **userName**: name of the user that performed the call to the endpoint.\n",
    "* **endpointDuration**: amount of time in milliseconds it took the endpoint to respond.\n",
    "* **resultBodyMimetype**: the type of the result (ie: application/json)\n",
    "* **resultCode**: code returned by the endpoint.\n",
    "* **queryIds**: vector that contains the id of every clickhouse query executed by the endpoint. Ability to cross reference that with the query log table to get additional information on the queries the endpoint ran.\n",
    "* **errorJson**: in case of error, the Json returned.\n",
    "* **errorId**: if any, the error ID\n",
    "* **errorType**: if any, the error type\n",
    "* **errorMessage**: if any, the error message"
   ]
  },
  {
   "cell_type": "markdown",
   "metadata": {},
   "source": [
    "## Capturing all the queries created by a specific request\n",
    "\n",
    "Table description\n",
    "\n",
    "The *endpoint_query_inspection* table registers two kinds of queries:\n",
    "* *Initial* queries that were run directly by the client.\n",
    "* *Child* queries that were initiated by other queries (for distributed query execution). For these types of queries, information about the parent queries is shown in the initial_* columns.*\n",
    "\n",
    "All these queries belong to a *record_endpoint* identified by a `request_id`\n",
    "\n",
    "### Dimensions\n",
    "* type (Enum8) — Type of event that occurred when executing the query. Values:\n",
    "  * 'QueryStart' = 1 — Successful start of query execution.\n",
    "  * 'QueryFinish' = 2 — Successful end of query execution.\n",
    "* 'ExceptionBeforeStart' = 3 — Exception before the start of query execution.\n",
    "* 'ExceptionWhileProcessing' = 4 — Exception during the query execution.\n",
    "* event_date (Date) — Query starting date.\n",
    "* event_time (DateTime) — Query starting time.\n",
    "* query_start_time (DateTime) — Start time of query execution.\n",
    " \n",
    "* query (String) — Query string.\n",
    "* exception (String) — Exception message.\n",
    "* stack_trace (String) — Stack trace (a list of methods called before the error occurred). An empty string, if the query is completed successfully.\n",
    "* is_initial_query (UInt8) — Query type. Possible values:\n",
    "  - 1 — Query was initiated by the client.\n",
    "  - 0 — Query was initiated by another query for distributed query execution.\n",
    "* user (String) — Name of the user who initiated the current query.\n",
    "* query_id (String) — ID of the query.\n",
    "* address (IPv6) — IP address that was used to make the query.\n",
    "* port (UInt16) — The client port that was used to make the query.\n",
    "* initial_user (String) — Name of the user who ran the initial query (for distributed query execution).\n",
    "* initial_query_id (String) — ID of the initial query (for distributed query execution).\n",
    "* initial_address (IPv6) — IP address that the parent query was launched from.\n",
    "* initial_port (UInt16) — The client port that was used to make the parent query.\n",
    "* interface (UInt8) — Interface that the query was initiated from. Possible values:\n",
    "  * 1 — TCP.\n",
    "  * 2 — HTTP.\n",
    "* os_user (String) — OS’s username who runs clickhouse-client.\n",
    "* client_hostname (String) — Hostname of the client machine where the clickhouse-client or another TCP client is run.\n",
    "* client_name (String) — The clickhouse-client or another TCP client name.\n",
    "* client_revision (UInt32) — Revision of the clickhouse-client or another TCP client.\n",
    "* client_version_major (UInt32) — Major version of the clickhouse-client or another TCP client.\n",
    "* client_version_minor (UInt32) — Minor version of the clickhouse-client or another TCP client.\n",
    "* client_version_patch (UInt32) — Patch component of the clickhouse-client or another TCP client version.\n",
    "* http_method (UInt8) — HTTP method that initiated the query. Possible values:\n",
    "  * 0 — The query was launched from the TCP interface.\n",
    "  * 1 — GET method was used.\n",
    "  * 2 — POST method was used.\n",
    "* http_user_agent (String) — The UserAgent header passed in the HTTP request.\n",
    "* quota_key (String) — The “quota key”\n",
    "* revision (UInt32) — ClickHouse revision.\n",
    "* thread_numbers (Array(UInt32)) — Number of threads that are participating in query execution.\n",
    "* ProfileEvents.Names (Array(String)) — Counters that measure different metrics. The description of them could be found in the table system.events\n",
    "* ProfileEvents.Values (Array(UInt64)) — Values of metrics that are listed in the ProfileEvents.Names column.\n",
    "* Settings.Names (Array(String)) — Names of settings that were changed when the client ran the query. To enable logging changes * to settings, set the log_query_settings parameter to 1.\n",
    "* Settings.Values (Array(String)) — Values of settings that are listed in the Settings.Names column.\n",
    " \n",
    "### Facts\n",
    "\n",
    "* query_duration_ms (UInt64) — Duration of query execution.\n",
    "* read_rows (UInt64) — Number of read rows.\n",
    "* read_bytes (UInt64) — Number of read bytes.\n",
    "* written_rows (UInt64) — For INSERT queries, the number of written rows. For other queries, the column value is 0.\n",
    "* written_bytes (UInt64) — For INSERT queries, the number of written bytes. For other queries, the column value is 0.\n",
    "* result_rows (UInt64) — Number of rows in the result.\n",
    "* result_bytes (UInt64) — Number of bytes in the result.\n",
    "* memory_usage (UInt64) — Memory consumption by the query."
   ]
  },
  {
   "cell_type": "markdown",
   "metadata": {},
   "source": [
    "### requesting using *endpoint_database_queries* pivot"
   ]
  },
  {
   "cell_type": "markdown",
   "metadata": {},
   "source": [
    "Use the following Rafal request content :"
   ]
  },
  {
   "cell_type": "code",
   "execution_count": null,
   "metadata": {},
   "outputs": [],
   "source": [
    "my_uuid3= str(uuid4())\n",
    "request_content= {\n",
    "    \"metrics\": [\"count\", \"sumQueryReadBytes\", \"sumQueryReadRows\", \"sumQueryWrittenBytes\", \"sumQueryWrittenRows\", \n",
    "                \"sumQueryDuration\", \"sumQueryMemoryUsage\", \"sumQueryResultBytes\", \"sumQueryResultRows\"],\n",
    "    \"with_facet\": False,\n",
    "    \"postaggregaggr\": {},\n",
    "    \"pivot\": \"endpoint_database_queries\",\n",
    "    \"by\": [\n",
    "        \"access_time\", \n",
    "        \"request_id\", \n",
    "        \"server_id\", \n",
    "        \"is_complete\", \n",
    "        \"server_hostname\", \n",
    "        \"client_hostname\", \n",
    "        \"username\", \n",
    "        \"request_method\", \n",
    "        \"request_path\", \n",
    "        \"request_body\", \n",
    "        \"request_body_mimetype\", \n",
    "        \"result_body_mimetype\", \n",
    "        \"result_code\", \n",
    "        \"endpoint_duration_ms\", \n",
    "        \"error_json\", \n",
    "        \"query_type\", \n",
    "        \"query_context\", \n",
    "        \"query_start_time\", \n",
    "        \"query\", \n",
    "        \"query_exception\", \n",
    "        \"query_stack_trace\", \n",
    "        \"is_initial_query\", \n",
    "        \"query_id\", \n",
    "        \"query_address\", \n",
    "        \"query_port\", \n",
    "        \"initial_query_id\", \n",
    "        \"initial_query_address\", \n",
    "        \"access_date\", \n",
    "        \"finish_time\", \n",
    "        \"error_id\", \n",
    "        \"error_type\", \n",
    "        \"error_message\", \n",
    "        \"query_start_date\", \n",
    "        \"query_finish_time\", \n",
    "        \"initial_query_port\", \n",
    "        \"query_client_hostname\", \n",
    "        \"query_client_name\", \n",
    "        \"query_client_revision\", \n",
    "        \"query_client_version_major\", \n",
    "        \"query_client_version_minor\", \n",
    "        \"query_client_version_patch\", \n",
    "        \"query_http_method\", \n",
    "        \"query_http_user_agent\", \n",
    "        \"query_quota_key\", \n",
    "        \"query_revision\"\n",
    "    ],\n",
    "    \"where\": {\n",
    "        \"@and\": [\n",
    "            {\n",
    "                \"request_path\": {\"match\": '^/[^dlp]'}\n",
    "            },\n",
    "            {\n",
    "                \"result_code\": {\"Values\": [\"200\"]}\n",
    "            }\n",
    "        ]\n",
    "    },\n",
    "    \"versioning\": [],\n",
    "    \"query_id\": my_uuid3\n",
    "}"
   ]
  },
  {
   "cell_type": "code",
   "execution_count": null,
   "metadata": {},
   "outputs": [],
   "source": [
    "# get queries records\n",
    "df0= session.request(endPoint= f'/module/{module}/query', http= 'POST', jsonText= request_content, \n",
    "                     output= 'Dataframe', verbose= False)"
   ]
  },
  {
   "cell_type": "code",
   "execution_count": null,
   "metadata": {},
   "outputs": [],
   "source": [
    "df0"
   ]
  },
  {
   "cell_type": "code",
   "execution_count": null,
   "metadata": {},
   "outputs": [],
   "source": [
    "# set the index of the Dataframe\n",
    "df= df0.set_index(['request_id', 'query_id']).sort_index()\n",
    "df"
   ]
  },
  {
   "cell_type": "code",
   "execution_count": null,
   "metadata": {},
   "outputs": [],
   "source": [
    "# Compute some stats for all requests\n",
    "fields= ['ReadRows', 'ReadBytes', 'WrittenRows', 'WrittenBytes', 'ResultRows',\n",
    "         'ResultBytes', 'MemoryUsage', 'Duration']\n",
    "\n",
    "fieldsToSum= {field: pd.NamedAgg(column= 'sumQuery'+field, aggfunc='sum') for field in fields}\n",
    "\n",
    "# Statistics from queries grouped by Rafal API request\n",
    "stats= df.groupby(['request_id', 'request_path']).agg(\n",
    "                            endpoint_duration_ms= pd.NamedAgg(column='endpoint_duration_ms', aggfunc='first'),\n",
    "                            queries_count= pd.NamedAgg(column='query_address', aggfunc='count'),\n",
    "                            **fieldsToSum)\n",
    "stats"
   ]
  },
  {
   "cell_type": "markdown",
   "metadata": {},
   "source": [
    "### From a specific request, print all related Rafal queries"
   ]
  },
  {
   "cell_type": "code",
   "execution_count": null,
   "metadata": {},
   "outputs": [],
   "source": [
    "my_requestId"
   ]
  },
  {
   "cell_type": "code",
   "execution_count": null,
   "metadata": {},
   "outputs": [],
   "source": [
    "#list queries from the selected request (query order is random !!)\n",
    "if my_requestId:\n",
    "    print(f\"request id = {my_requestId} : \\n\")\n",
    "    for i, (idx, query) in enumerate(df.loc[my_requestId, 'query'].iteritems()):\n",
    "        print(f\"({i}) {query}\\n\")"
   ]
  },
  {
   "cell_type": "code",
   "execution_count": null,
   "metadata": {
    "scrolled": false
   },
   "outputs": [],
   "source": [
    "# print related stats\n",
    "stats.loc[my_requestId].T"
   ]
  },
  {
   "cell_type": "code",
   "execution_count": null,
   "metadata": {},
   "outputs": [],
   "source": []
  },
  {
   "cell_type": "markdown",
   "metadata": {},
   "source": [
    "### Look for a specific request"
   ]
  },
  {
   "cell_type": "markdown",
   "metadata": {},
   "source": [
    "Here we want to search for all requests, sent by user *Guillaume*, to the endPoint `'/tables/endpoint_query_inspection/schema'`\n",
    "and print the latest one."
   ]
  },
  {
   "cell_type": "code",
   "execution_count": null,
   "metadata": {},
   "outputs": [],
   "source": [
    "df1= df[(df.request_path=='/tables/endpoint_query_inspection/schema') & (df.username == 'guillaume')\n",
    "       ].sort_values('access_time')\n",
    "df1"
   ]
  },
  {
   "cell_type": "code",
   "execution_count": null,
   "metadata": {
    "scrolled": false
   },
   "outputs": [],
   "source": [
    "# print the last one\n",
    "print(df1.iloc[-1].query)\n",
    "df1.iloc[-1]"
   ]
  },
  {
   "cell_type": "code",
   "execution_count": null,
   "metadata": {},
   "outputs": [],
   "source": []
  }
 ],
 "metadata": {
  "kernelspec": {
   "display_name": "Python 3",
   "language": "python",
   "name": "python3"
  },
  "language_info": {
   "codemirror_mode": {
    "name": "ipython",
    "version": 3
   },
   "file_extension": ".py",
   "mimetype": "text/x-python",
   "name": "python",
   "nbconvert_exporter": "python",
   "pygments_lexer": "ipython3",
   "version": "3.7.6"
  }
 },
 "nbformat": 4,
 "nbformat_minor": 4
}
