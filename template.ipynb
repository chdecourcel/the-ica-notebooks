{
 "cells": [
  {
   "cell_type": "markdown",
   "metadata": {},
   "source": [
    "## Connect to Rafal"
   ]
  },
  {
   "cell_type": "code",
   "execution_count": null,
   "metadata": {},
   "outputs": [],
   "source": [
    "# load connection script\n",
    "%run ../../etc/rafal_load.py\n",
    "\n",
    "uiConnect"
   ]
  },
  {
   "cell_type": "markdown",
   "metadata": {},
   "source": [
    "## Monitoring Module"
   ]
  },
  {
   "cell_type": "markdown",
   "metadata": {},
   "source": [
    "### using monitoring_flat"
   ]
  },
  {
   "cell_type": "code",
   "execution_count": null,
   "metadata": {},
   "outputs": [],
   "source": [
    "module= 'monitoring_flat'"
   ]
  },
  {
   "cell_type": "code",
   "execution_count": null,
   "metadata": {},
   "outputs": [],
   "source": [
    "my_uuid1= str(uuid4())\n",
    "request_content= {\n",
    "    \"metric\": None,\n",
    "    \"postaggregaggr\": None,\n",
    "    \"with_facet\": True,\n",
    "    \"filter_on_query\": None,\n",
    "    \"batch\": False,\n",
    "    \"batch_description\": None,\n",
    "    \"currency\": None,\n",
    "    \"pivot\": \"rafal-logging\",\n",
    "    \"by\": [\n",
    "        \"dateTime\",\n",
    "        \"className\",\n",
    "        \"message\",\n",
    "        \"level\",\n",
    "        \"stackTrace\",\n",
    "        \"threadName\",\n",
    "        \"context_key\",\n",
    "        \"context_value\"\n",
    "    ],\n",
    "    \"where\": {\n",
    "        \"@and\": []\n",
    "    },\n",
    "    \"versioning\": [],\n",
    "    \"query_id\": my_uuid1\n",
    "}"
   ]
  },
  {
   "cell_type": "code",
   "execution_count": null,
   "metadata": {},
   "outputs": [],
   "source": [
    "# get rafal_logging pivot response\n",
    "resp= session.request(endPoint= f'/module/{module}/query', http= 'POST', jsonText= request_content, output= 'json')\n",
    "len(resp)"
   ]
  },
  {
   "cell_type": "code",
   "execution_count": null,
   "metadata": {},
   "outputs": [],
   "source": [
    "resp[:2000]"
   ]
  },
  {
   "cell_type": "code",
   "execution_count": null,
   "metadata": {},
   "outputs": [],
   "source": [
    "# convert the data in Dataframe\n",
    "df= pd.read_json(resp, orient='records',lines= True)\n",
    "df.head()"
   ]
  },
  {
   "cell_type": "code",
   "execution_count": null,
   "metadata": {},
   "outputs": [],
   "source": [
    "# reshape Dataframe\n",
    "cols= ['className', 'level', 'message', 'stackTrace', 'threadName']\n",
    "df2= pd.pivot_table(df, index= ['dateTime'] + cols, \n",
    "               columns= ['context_key'], values= 'context_value', aggfunc= sum, fill_value= ''\n",
    "                   ).reset_index(cols).sort_index()\n",
    "print(f\"{len(df2)} records\")\n",
    "df2"
   ]
  },
  {
   "cell_type": "code",
   "execution_count": null,
   "metadata": {},
   "outputs": [],
   "source": []
  }
 ],
 "metadata": {
  "kernelspec": {
   "display_name": "Python 3",
   "language": "python",
   "name": "python3"
  },
  "language_info": {
   "codemirror_mode": {
    "name": "ipython",
    "version": 3
   },
   "file_extension": ".py",
   "mimetype": "text/x-python",
   "name": "python",
   "nbconvert_exporter": "python",
   "pygments_lexer": "ipython3",
   "version": "3.7.6"
  }
 },
 "nbformat": 4,
 "nbformat_minor": 4
}
