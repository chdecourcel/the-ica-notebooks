{
 "cells": [
  {
   "cell_type": "markdown",
   "metadata": {},
   "source": [
    "# Rafal notebook demo\n",
    "\n",
    "## Repo\n",
    "\n",
    "Please visit out [github homepage](https://github.com/chdecourcel/the-ica-notebooks.git)\n",
    "\n",
    "## Jupyter hub\n",
    "\n",
    "Go to your [Jupyter Hub homepage](/hub/user-redirect/git-pull?repo=https://github.com/chdecourcel/the-ica-notebooks.git&branch=master&subPath=index.ipynb&app=notebook)\n",
    "\n",
    "## List of available notebooks\n",
    "\n",
    "* [get started NB](./NB/getStarted/getStarted.ipynb)\n",
    "* [Monitoring NB](./NB/monitoring/tuto_monitoring_flat.ipynb)\n",
    "* [Replay batch request](./NB/replay_log/replay_log.ipynb)\n",
    "* [WIP] [ClickHouse benchmark NB](./NB/benchmark/ckh_query_benchmark.ipynb)\n",
    "\n",
    "## contact\n",
    "\n",
    "Please contact charles.decourcel@the-ica.com"
   ]
  },
  {
   "cell_type": "code",
   "execution_count": null,
   "metadata": {},
   "outputs": [],
   "source": []
  }
 ],
 "metadata": {
  "kernelspec": {
   "display_name": "Python 3",
   "language": "python",
   "name": "python3"
  },
  "language_info": {
   "codemirror_mode": {
    "name": "ipython",
    "version": 3
   },
   "file_extension": ".py",
   "mimetype": "text/x-python",
   "name": "python",
   "nbconvert_exporter": "python",
   "pygments_lexer": "ipython3",
   "version": "3.7.6"
  }
 },
 "nbformat": 4,
 "nbformat_minor": 4
}
