{
 "cells": [
  {
   "cell_type": "markdown",
   "metadata": {},
   "source": [
    "# Rafal notebook demo\n",
    "\n",
    "## Repo\n",
    "\n",
    "Please visit out [github homepage](https://github.com/chdecourcel/the-ica-notebooks.git)\n",
    "\n",
    "## Jupyter hub\n",
    "\n",
    "Go to your [Jupyter Hub homepage](http://212.47.233.37/hub/user-redirect/git-pull?repo=https://github.com/chdecourcel/the-ica-notebooks.git&branch=master&subPath=index.ipynb&app=notebook)\n",
    "\n",
    "## List of available notebooks\n",
    "\n",
    "* [Monitoring NB](./NB/monitoring/tuto%20monitoring_flat.ipynb)\n",
    "* [WIP] [ClickHouse benchmark NB](./NB/benchmark/clickHouse%20query%20benchmark.ipynb)\n",
    "\n",
    "## contact\n",
    "\n",
    "Please contact charles.decourcel@the-ica.com"
   ]
  }
 ],
 "metadata": {
  "kernelspec": {
   "display_name": "Python 3",
   "language": "python",
   "name": "python3"
  },
  "language_info": {
   "codemirror_mode": {
    "name": "ipython",
    "version": 3
   },
   "file_extension": ".py",
   "mimetype": "text/x-python",
   "name": "python",
   "nbconvert_exporter": "python",
   "pygments_lexer": "ipython3",
   "version": "3.7.6"
  }
 },
 "nbformat": 4,
 "nbformat_minor": 4
}
